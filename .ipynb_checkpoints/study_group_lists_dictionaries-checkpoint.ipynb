{
 "cells": [
  {
   "cell_type": "markdown",
   "metadata": {},
   "source": [
    "# Objectives\n",
    "* YWBAT \n",
    "    * create a list\n",
    "    * iterate through indices and items in a list\n",
    "    * iterate through multiple lists\n",
    "    * create dictionaries and lists using inline notation"
   ]
  },
  {
   "cell_type": "code",
   "execution_count": 1,
   "metadata": {},
   "outputs": [],
   "source": [
    "import numpy as np"
   ]
  },
  {
   "cell_type": "code",
   "execution_count": 3,
   "metadata": {},
   "outputs": [
    {
     "data": {
      "text/plain": [
       "'\\nsetting np.random.seed(k)\\nThey will not just pick a random number, but create a list of numbers \\nthat is k-length and pick a numberr from that list\\n'"
      ]
     },
     "execution_count": 3,
     "metadata": {},
     "output_type": "execute_result"
    }
   ],
   "source": [
    "np.random.seed(42) # random seeds, what they do is, uh.....\n",
    "\"\"\"\n",
    "setting np.random.seed(k)\n",
    "They will not just pick a random number, but create a list of numbers \n",
    "that is k-length and pick a numberr from that list\n",
    "\"\"\""
   ]
  },
  {
   "cell_type": "code",
   "execution_count": 52,
   "metadata": {},
   "outputs": [],
   "source": [
    "lst1 = np.random.randint(0, 10, 20)\n",
    "lst2 = np.random.randint(0, 100, 20)"
   ]
  },
  {
   "cell_type": "code",
   "execution_count": 53,
   "metadata": {},
   "outputs": [],
   "source": [
    "# convert x and y to lists\n",
    "lst1 = list(lst1)\n",
    "lst2 = list(lst2)"
   ]
  },
  {
   "cell_type": "code",
   "execution_count": 45,
   "metadata": {},
   "outputs": [
    {
     "name": "stdout",
     "output_type": "stream",
     "text": [
      "[6, 9, 2, 6, 9, 8, 3, 0, 1, 0, 4, 4, 6, 8, 8, 2, 2, 2, 3, 7]\n"
     ]
    }
   ],
   "source": [
    "print(lst1)"
   ]
  },
  {
   "cell_type": "markdown",
   "metadata": {},
   "source": [
    "# Ways to square and reassign numbers in list"
   ]
  },
  {
   "cell_type": "markdown",
   "metadata": {},
   "source": [
    "# The First Way - For loop over indices"
   ]
  },
  {
   "cell_type": "code",
   "execution_count": 33,
   "metadata": {
    "scrolled": true
   },
   "outputs": [],
   "source": [
    "# loop over indices\n",
    "# do whatever calculations you need\n",
    "# and reassign based on indicies\n",
    "\n",
    "for i in range(len(lst1)): # loops over indices of x-list\n",
    "    # square the number then assign it into the index\n",
    "    n = lst1[i]**2 # squares the ith number in x and assign it to n\n",
    "    \n",
    "    # assign n to the ith index of x\n",
    "    lst1[i] = n"
   ]
  },
  {
   "cell_type": "code",
   "execution_count": 38,
   "metadata": {},
   "outputs": [],
   "source": [
    "# a faster way to do this\n",
    "for i in range(len(lst1)):\n",
    "    lst1[i] = lst1[i]**2"
   ]
  },
  {
   "cell_type": "markdown",
   "metadata": {},
   "source": [
    "# Use enumerate() - for loop over indices and values"
   ]
  },
  {
   "cell_type": "code",
   "execution_count": 50,
   "metadata": {},
   "outputs": [],
   "source": [
    "# there's a better way to get indicies and values\n",
    "for i, value in enumerate(lst1): # enumerate will grab the indices and values\n",
    "    lst1[i] = value**2"
   ]
  },
  {
   "cell_type": "markdown",
   "metadata": {},
   "source": [
    "# Use inline - for loop over list values"
   ]
  },
  {
   "cell_type": "code",
   "execution_count": 54,
   "metadata": {},
   "outputs": [
    {
     "data": {
      "text/plain": [
       "[64, 9, 0, 9, 0, 16, 9, 49, 49, 36, 4, 0, 0, 4, 25, 36, 25, 25, 25, 4]"
      ]
     },
     "execution_count": 54,
     "metadata": {},
     "output_type": "execute_result"
    }
   ],
   "source": [
    "lst1_squared = [value**2 for value in lst1] # inline (list comprehension)\n",
    "lst1_squared"
   ]
  },
  {
   "cell_type": "code",
   "execution_count": 55,
   "metadata": {},
   "outputs": [
    {
     "data": {
      "text/plain": [
       "['flatiron', 'school', 'with', 'rafael,', 'allison,', 'andrew', 'and', 'rama']"
      ]
     },
     "execution_count": 55,
     "metadata": {},
     "output_type": "execute_result"
    }
   ],
   "source": [
    "string = 'flatiron school with rafael, allison, andrew and rama'.split(' ')\n",
    "string"
   ]
  },
  {
   "cell_type": "code",
   "execution_count": 56,
   "metadata": {},
   "outputs": [
    {
     "data": {
      "text/plain": [
       "['flatiron!',\n",
       " 'school!',\n",
       " 'with!',\n",
       " 'rafael,!',\n",
       " 'allison,!',\n",
       " 'andrew!',\n",
       " 'and!',\n",
       " 'rama!']"
      ]
     },
     "execution_count": 56,
     "metadata": {},
     "output_type": "execute_result"
    }
   ],
   "source": [
    "# add ! at the end of each word\n",
    "string = [word + '!' for word in string] # adding ! to the end of each word inline\n",
    "string"
   ]
  },
  {
   "cell_type": "code",
   "execution_count": 57,
   "metadata": {},
   "outputs": [
    {
     "data": {
      "text/plain": [
       "['?flatiron!',\n",
       " '?school!',\n",
       " '?with!',\n",
       " '?rafael,!',\n",
       " '?allison,!',\n",
       " '?andrew!',\n",
       " '?and!',\n",
       " '?rama!']"
      ]
     },
     "execution_count": 57,
     "metadata": {},
     "output_type": "execute_result"
    }
   ],
   "source": [
    "# add ? at the beginning of each word using inline\n",
    "string = ['?' + word for word in string]\n",
    "string"
   ]
  },
  {
   "cell_type": "markdown",
   "metadata": {},
   "source": [
    "# Take the sum of lst1 and lst2 pair-wise"
   ]
  },
  {
   "cell_type": "markdown",
   "metadata": {},
   "source": [
    "# Method 1 - Loop over indices"
   ]
  },
  {
   "cell_type": "code",
   "execution_count": 60,
   "metadata": {},
   "outputs": [
    {
     "data": {
      "text/plain": [
       "(20, 20)"
      ]
     },
     "execution_count": 60,
     "metadata": {},
     "output_type": "execute_result"
    }
   ],
   "source": [
    "# create lst3 where lst3 equals the pairwise sum of lst1 and lst2 elements"
   ]
  },
  {
   "cell_type": "code",
   "execution_count": 63,
   "metadata": {},
   "outputs": [
    {
     "data": {
      "text/plain": [
       "[61,\n",
       " 10,\n",
       " 26,\n",
       " 29,\n",
       " 97,\n",
       " 24,\n",
       " 32,\n",
       " 103,\n",
       " 34,\n",
       " 69,\n",
       " 98,\n",
       " 68,\n",
       " 60,\n",
       " 49,\n",
       " 23,\n",
       " 9,\n",
       " 39,\n",
       " 68,\n",
       " 53,\n",
       " 18]"
      ]
     },
     "execution_count": 63,
     "metadata": {},
     "output_type": "execute_result"
    }
   ],
   "source": [
    "lst3 = []\n",
    "for i in range(len(lst1)):\n",
    "    # assign the sum to n\n",
    "    n = lst1[i] + lst2[i]\n",
    "    # add it to lst3\n",
    "    lst3.append(n)\n",
    "    # lst3[i] = n\n",
    "lst3"
   ]
  },
  {
   "cell_type": "markdown",
   "metadata": {},
   "source": [
    "# Method 2 - iterate over lst1 and lst2 using zip"
   ]
  },
  {
   "cell_type": "code",
   "execution_count": 64,
   "metadata": {},
   "outputs": [],
   "source": [
    "# using zip to zip two lists and iterate over them simulateneously"
   ]
  },
  {
   "cell_type": "code",
   "execution_count": 79,
   "metadata": {},
   "outputs": [
    {
     "data": {
      "text/plain": [
       "[61,\n",
       " 10,\n",
       " 26,\n",
       " 29,\n",
       " 97,\n",
       " 24,\n",
       " 32,\n",
       " 103,\n",
       " 34,\n",
       " 69,\n",
       " 98,\n",
       " 68,\n",
       " 60,\n",
       " 49,\n",
       " 23,\n",
       " 9,\n",
       " 39,\n",
       " 68,\n",
       " 53,\n",
       " 18]"
      ]
     },
     "execution_count": 79,
     "metadata": {},
     "output_type": "execute_result"
    }
   ],
   "source": [
    "lst3 = []\n",
    "for x, y in zip(lst1, lst2):\n",
    "#     # assign the sum to n\n",
    "#     n = sum([x, y])\n",
    "    \n",
    "#     # append it to my lst3\n",
    "#     lst3.append(n)\n",
    "    lst3.append(x + y)\n",
    "lst3"
   ]
  },
  {
   "cell_type": "code",
   "execution_count": 82,
   "metadata": {},
   "outputs": [
    {
     "name": "stdout",
     "output_type": "stream",
     "text": [
      "1 10\n",
      "2 11\n",
      "3 12\n"
     ]
    }
   ],
   "source": [
    "# Rama - what happens if indices are unequal? \n",
    "# Great question, said Rafael.  Looks like it stops at the lesser\n",
    "arr3 = [1, 2, 3]\n",
    "arr5 = [10, 11, 12, 13, 14, 15]\n",
    "for i, j in zip(arr3, arr5):\n",
    "    print(i, j)"
   ]
  },
  {
   "cell_type": "code",
   "execution_count": 84,
   "metadata": {},
   "outputs": [],
   "source": [
    "lst4 = []\n",
    "for x, y, z in zip(lst1, lst2, lst3):\n",
    "    lst4.append(sum([x, y, z]))"
   ]
  },
  {
   "cell_type": "code",
   "execution_count": 85,
   "metadata": {},
   "outputs": [
    {
     "name": "stdout",
     "output_type": "stream",
     "text": [
      "8 53 61 122\n",
      "3 7 10 20\n",
      "0 26 26 52\n",
      "3 26 29 58\n",
      "0 97 97 194\n",
      "4 20 24 48\n",
      "3 29 32 64\n",
      "7 96 103 206\n",
      "7 27 34 68\n",
      "6 63 69 138\n",
      "2 96 98 196\n",
      "0 68 68 136\n",
      "0 60 60 120\n",
      "2 47 49 98\n",
      "5 18 23 46\n",
      "6 3 9 18\n",
      "5 34 39 78\n",
      "5 63 68 136\n",
      "5 48 53 106\n",
      "2 16 18 36\n"
     ]
    }
   ],
   "source": [
    "for x, y, z, w in zip(lst1, lst2, lst3, lst4):\n",
    "    print(x, y, z, w)"
   ]
  },
  {
   "cell_type": "code",
   "execution_count": 86,
   "metadata": {},
   "outputs": [
    {
     "name": "stdout",
     "output_type": "stream",
     "text": [
      "1 10\n",
      "2 11\n",
      "3 12\n"
     ]
    }
   ],
   "source": [
    "arr1 = np.array([1, 2, 3])\n",
    "arr2 = np.array([10, 11, 12])\n",
    "for x, y in zip(arr1, arr2):\n",
    "    print(x, y)"
   ]
  },
  {
   "cell_type": "code",
   "execution_count": 88,
   "metadata": {},
   "outputs": [
    {
     "name": "stdout",
     "output_type": "stream",
     "text": [
      "t s 61\n",
      "h t 10\n",
      "i r 26\n",
      "s i 29\n",
      "  n 97\n",
      "i g 24\n",
      "s   32\n",
      "  i 103\n",
      "a s 34\n",
      "    69\n",
      "s a 98\n",
      "t   68\n",
      "r t 60\n",
      "i h 49\n",
      "n i 23\n",
      "g s 9\n"
     ]
    }
   ],
   "source": [
    "str1 = 'this is a string'\n",
    "str2 = 'string is a this'\n",
    "for l1, l2, x in zip(str1, str2, lst3):\n",
    "    print(l1, l2, x)"
   ]
  },
  {
   "cell_type": "markdown",
   "metadata": {},
   "source": [
    "# Creating lst3 inline using zip"
   ]
  },
  {
   "cell_type": "code",
   "execution_count": 91,
   "metadata": {},
   "outputs": [
    {
     "name": "stdout",
     "output_type": "stream",
     "text": [
      "[61, 10, 26, 29, 97, 24, 32, 103, 34, 69, 98, 68, 60, 49, 23, 9, 39, 68, 53, 18]\n"
     ]
    }
   ],
   "source": [
    "lst3 = [x + y for x, y in zip(lst1, lst2)] # inline zipping (zip-lining)\n",
    "print(lst3)"
   ]
  },
  {
   "cell_type": "markdown",
   "metadata": {},
   "source": [
    "# Creating dictionaries"
   ]
  },
  {
   "cell_type": "code",
   "execution_count": 93,
   "metadata": {},
   "outputs": [
    {
     "name": "stdout",
     "output_type": "stream",
     "text": [
      "<class 'dict'>\n",
      "<class 'dict'>\n",
      "<class 'dict'>\n"
     ]
    }
   ],
   "source": [
    "# 3 of n ways of instantiating a dictionary\n",
    "d = dict() # call dict() method in python\n",
    "print(type(d))\n",
    "d = {} # use curly braces in python\n",
    "print(type(d))\n",
    "d = {\"a\":1} # use and assign with curly braces\n",
    "print(type(d))"
   ]
  },
  {
   "cell_type": "code",
   "execution_count": 98,
   "metadata": {},
   "outputs": [
    {
     "name": "stdout",
     "output_type": "stream",
     "text": [
      "['a', 'b', 'c', 'd', 'e', 'f', 'g']\n"
     ]
    }
   ],
   "source": [
    "alphabet = list('abcdefg')\n",
    "print(alphabet)\n",
    "numbers = [2, 4, 6, 8, 10, 12, 14]"
   ]
  },
  {
   "cell_type": "code",
   "execution_count": 99,
   "metadata": {},
   "outputs": [
    {
     "data": {
      "text/plain": [
       "{'a': 2, 'b': 4, 'c': 6, 'd': 8, 'e': 10, 'f': 12, 'g': 14}"
      ]
     },
     "execution_count": 99,
     "metadata": {},
     "output_type": "execute_result"
    }
   ],
   "source": [
    "# Walkthrough using for loop to make dictionary\n",
    "d = dict() # dict() == {}\n",
    "# d = {}\n",
    "\n",
    "for letter, number in zip(alphabet, numbers):\n",
    "    d[letter]=number\n",
    "d"
   ]
  },
  {
   "cell_type": "code",
   "execution_count": 100,
   "metadata": {},
   "outputs": [],
   "source": [
    "d = dict()"
   ]
  },
  {
   "cell_type": "code",
   "execution_count": 101,
   "metadata": {},
   "outputs": [
    {
     "data": {
      "text/plain": [
       "{}"
      ]
     },
     "execution_count": 101,
     "metadata": {},
     "output_type": "execute_result"
    }
   ],
   "source": [
    "d"
   ]
  },
  {
   "cell_type": "markdown",
   "metadata": {},
   "source": [
    "# creating a dictionary using zip, like the cool kids"
   ]
  },
  {
   "cell_type": "code",
   "execution_count": 105,
   "metadata": {},
   "outputs": [
    {
     "data": {
      "text/plain": [
       "{'a': 2, 'b': 4, 'c': 6, 'd': 8, 'e': 10, 'f': 12, 'g': 14}"
      ]
     },
     "execution_count": 105,
     "metadata": {},
     "output_type": "execute_result"
    }
   ],
   "source": [
    "d = dict(zip(alphabet, numbers)) # inline calling dict() on zipped lists\n",
    "d"
   ]
  },
  {
   "cell_type": "code",
   "execution_count": 116,
   "metadata": {},
   "outputs": [],
   "source": [
    "str2 = 'what the heck is happening'"
   ]
  },
  {
   "cell_type": "code",
   "execution_count": 117,
   "metadata": {},
   "outputs": [
    {
     "name": "stdout",
     "output_type": "stream",
     "text": [
      "w\n",
      "h\n",
      "a\n",
      "t\n",
      " \n",
      "t\n",
      "h\n",
      "e\n",
      " \n",
      "h\n",
      "e\n",
      "c\n",
      "k\n",
      " \n",
      "i\n",
      "s\n",
      " \n",
      "h\n",
      "a\n",
      "p\n",
      "p\n",
      "e\n",
      "n\n",
      "i\n",
      "n\n",
      "g\n"
     ]
    }
   ],
   "source": [
    "for letter in str2:\n",
    "    print(letter)"
   ]
  },
  {
   "cell_type": "code",
   "execution_count": 118,
   "metadata": {},
   "outputs": [
    {
     "data": {
      "text/plain": [
       "['what', 'the', 'heck', 'is', 'happening']"
      ]
     },
     "execution_count": 118,
     "metadata": {},
     "output_type": "execute_result"
    }
   ],
   "source": [
    "str2_split = str2.split(\" \")\n",
    "str2_split"
   ]
  },
  {
   "cell_type": "code",
   "execution_count": 119,
   "metadata": {},
   "outputs": [
    {
     "name": "stdout",
     "output_type": "stream",
     "text": [
      "what\n",
      "the\n",
      "heck\n",
      "is\n",
      "happening\n"
     ]
    }
   ],
   "source": [
    "for word in str2_split:\n",
    "    print(word)"
   ]
  }
 ],
 "metadata": {
  "kernelspec": {
   "display_name": "Python 3",
   "language": "python",
   "name": "python3"
  },
  "language_info": {
   "codemirror_mode": {
    "name": "ipython",
    "version": 3
   },
   "file_extension": ".py",
   "mimetype": "text/x-python",
   "name": "python",
   "nbconvert_exporter": "python",
   "pygments_lexer": "ipython3",
   "version": "3.6.5"
  }
 },
 "nbformat": 4,
 "nbformat_minor": 2
}
